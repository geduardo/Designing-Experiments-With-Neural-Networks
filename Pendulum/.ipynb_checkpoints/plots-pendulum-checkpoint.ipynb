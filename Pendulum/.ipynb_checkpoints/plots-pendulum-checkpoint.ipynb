{
 "cells": [
  {
   "cell_type": "code",
   "execution_count": 1,
   "metadata": {},
   "outputs": [],
   "source": [
    "import numpy as np\n",
    "import matplotlib.pyplot as plt\n",
    "import seaborn as sns\n",
    "import pandas as pd\n",
    "from copy import copy\n",
    "sns.set()"
   ]
  },
  {
   "cell_type": "code",
   "execution_count": null,
   "metadata": {},
   "outputs": [],
   "source": [
    "df = pd.read_csv('data-TSD.csv')\n",
    "fig, ax1 = plt.subplots()\n",
    "color = 'k'\n",
    "ax1.set_ylabel('qa')\n",
    "ax1.set_xlabel('Episode', color=color)\n",
    "ax1.plot(range(len(df)),df['q0'],label='Q(0)')\n",
    "ax1.plot(range(len(df)),df['q1'],label='Q(1)')\n",
    "# ax1.plot(range(len(df['Action'])),df['Action'],label='a=1')\n",
    "ax1.tick_params(axis='y', labelcolor=color)\n",
    "ax1.grid(False)\n",
    "ax2 = ax1.twinx()  # instantiate a second axes that shares the same x-axis\n",
    "ax2.set_ylabel('Exploration rate', color=color)  # we already handled the x-label with ax1\n",
    "ax2.plot(range(len(df['q1'])),df['Exploration rate'],'g--', label = 'Exploration rate')\n",
    "ax2.tick_params(axis='y', labelcolor=color)\n",
    "plt.axvline(x=experimenter.marker,color='g',linestyle='-',alpha=0.2)\n",
    "ax2.grid(False)\n",
    "fig.legend(loc='upper center', bbox_to_anchor=(0.5, 0.9), shadow=True, ncol=1)\n",
    "fig.tight_layout()\n",
    "fig.tight_layout()  # otherwise the right y-label is slightly clipped\n",
    "plt.savefig('plots/Q-Values-Pendulum.pdf')"
   ]
  },
  {
   "cell_type": "code",
   "execution_count": null,
   "metadata": {},
   "outputs": [],
   "source": [
    "fig, ax1 = plt.subplots()\n",
    "color = 'k'\n",
    "window = int(N_Episodes/100)\n",
    "ax1.set_xlabel('Episode')\n",
    "ax1.set_ylabel('Average Action per Episode', color=color)\n",
    "smooth_path= df['Action'].rolling(window=window).mean()\n",
    "path_deviation = df['Action'].rolling(window=window).std()\n",
    "under_line     = (smooth_path-path_deviation)\n",
    "over_line      = (smooth_path+path_deviation)\n",
    "ax1.plot(smooth_path, linewidth=2, label ='Reward (moving avg)') #mean curve.\n",
    "ax1.fill_between(path_deviation.index, under_line, over_line, color='b', alpha=0.2,label ='Reward (std deviation)') #std curves.\n",
    "ax1.axhline(y=1,color='k',linestyle='--',alpha=0.3)\n",
    "ax1.axhline(y=0,color='k',linestyle='--',alpha=0.3)\n",
    "ax1.legend(loc='upper center', bbox_to_anchor=(0.4, 1), shadow=True, ncol=1)\n",
    "ax1.tick_params(axis='y', labelcolor=color)\n",
    "ax1.grid(False)\n",
    "ax2 = ax1.twinx()  # instantiate a second axes that shares the same x-axis\n",
    "ax2.set_ylabel('Exploration rate', color=color)  # we already handled the x-label with ax1\n",
    "ax2.plot(range(len(df['q1'])),df['Exploration rate'],'g--', label = 'Exploration rate')\n",
    "ax2.tick_params(axis='y', labelcolor=color)\n",
    "plt.axvline(x=experimenter.marker,color='g',linestyle='-',alpha=0.2)\n",
    "ax2.grid(False)\n",
    "ax2.legend()\n",
    "fig.tight_layout()\n",
    "plt.savefig('plots/Avg-Action-Pendulum.pdf')"
   ]
  },
  {
   "cell_type": "code",
   "execution_count": null,
   "metadata": {},
   "outputs": [],
   "source": [
    "cumulative_frequency_0 = []\n",
    "cumulative_frequency_1 = []\n",
    "counter_0 = 0\n",
    "counter_1 = 1\n",
    "for i in range(len(df)):\n",
    "    if df['Action'][i]==0:\n",
    "        counter_0+=1\n",
    "    else:\n",
    "        counter_1+=1\n",
    "    cumulative_frequency_0.append(counter_0)\n",
    "    cumulative_frequency_1.append(counter_1)\n",
    "\n",
    "fig, ax1 = plt.subplots()\n",
    "color = 'k'\n",
    "ax1.set_ylabel('Cumulative frequency of actions')\n",
    "ax1.set_xlabel('Episode', color=color)\n",
    "ax1.plot(range(len(df['Action'])),cumulative_frequency_0,label='Action = 0')\n",
    "ax1.plot(range(len(df['Action'])),cumulative_frequency_1,label='Action = 1')\n",
    "# ax1.plot(range(len(df['Action'])),df['Action'],label='a=1')\n",
    "ax1.tick_params(axis='y', labelcolor=color)\n",
    "ax1.grid(False)\n",
    "ax2 = ax1.twinx()  # instantiate a second axes that shares the same x-axis\n",
    "ax2.set_ylabel('Exploration rate', color=color)  # we already handled the x-label with ax1\n",
    "ax2.plot(range(len(df['q1'])),df['Exploration rate'],'g--', label = 'Exploration rate')\n",
    "ax2.tick_params(axis='y', labelcolor=color)\n",
    "plt.axvline(x=experimenter.marker,color='g',linestyle='-',alpha=0.2)\n",
    "ax2.grid(False)\n",
    "fig.legend(loc='upper center', bbox_to_anchor=(0.5, 0.9), shadow=True, ncol=1)\n",
    "fig.tight_layout()\n",
    "plt.savefig('plots/Cum-Freq-Pendulum.pdf')"
   ]
  },
  {
   "cell_type": "code",
   "execution_count": null,
   "metadata": {},
   "outputs": [],
   "source": [
    "fig, ax1 = plt.subplots()\n",
    "color = 'k'\n",
    "window = int(N_Episodes/10)\n",
    "ax1.set_xlabel('Episode')\n",
    "ax1.set_ylabel('Average Reward per Episode', color=color)\n",
    "smooth_path= df['Reward'].rolling(window=window).mean()\n",
    "path_deviation = df['Reward'].rolling(window=window).std()\n",
    "under_line     = (smooth_path-path_deviation)\n",
    "over_line      = (smooth_path+path_deviation)\n",
    "ax1.plot(smooth_path, linewidth=2, label ='Reward (moving avg)') #mean curve.\n",
    "ax1.fill_between(path_deviation.index, under_line, over_line, color='b', alpha=0.2,label ='Reward (std deviation)') #std curves.\n",
    "ax1.axhline(y=1,color='k',linestyle='--',alpha=0.3)\n",
    "ax1.legend(loc='upper center', bbox_to_anchor=(0.4, 1), shadow=True, ncol=1)\n",
    "ax1.tick_params(axis='y', labelcolor=color)\n",
    "ax1.grid(False)\n",
    "ax2 = ax1.twinx()  # instantiate a second axes that shares the same x-axis\n",
    "ax2.set_ylabel('Exploration rate', color=color)  # we already handled the x-label with ax1\n",
    "ax2.plot(range(len(df['q1'])),df['Exploration rate'],'g--', label = 'Exploration rate')\n",
    "ax2.tick_params(axis='y', labelcolor=color)\n",
    "plt.axvline(x=experimenter.marker,color='g',linestyle='-',alpha=0.2)\n",
    "ax2.grid(False)\n",
    "ax2.legend()\n",
    "fig.tight_layout()\n",
    "plt.savefig('plots/Reward-Pendulum.pdf')"
   ]
  },
  {
   "cell_type": "code",
   "execution_count": null,
   "metadata": {},
   "outputs": [],
   "source": [
    "sample_size = 0.01\n",
    "sample=df.loc[np.r_[N_Episodes-N_Episodes*sample_size:N_Episodes], :]\n",
    "plt.scatter(sample['Empirical T'],sample['Predicted T'])\n",
    "x=[min(sample['Empirical T']),max(sample['Empirical T'])]\n",
    "plt.plot(x,x,'r-',label='y = x',linewidth =2)\n",
    "plt.ylabel( 'T predicted (s)')\n",
    "plt.xlabel('T empirical (s)')\n",
    "plt.legend()\n",
    "plt.grid(False)\n",
    "plt.savefig('plots/Empirical-vs-Pred-Pendulum.pdf')"
   ]
  },
  {
   "cell_type": "code",
   "execution_count": null,
   "metadata": {},
   "outputs": [],
   "source": [
    "fig, ax1 = plt.subplots()\n",
    "color = 'k'\n",
    "window = int(N_Episodes/40)\n",
    "ax1.set_xlabel('Episode')\n",
    "ax1.set_ylabel('Average Error per Episode', color=color)\n",
    "error = np.abs(df['Predicted T']- df['Empirical T'])\n",
    "smooth_path= error.rolling(window=window).mean()\n",
    "path_deviation = error.rolling(window=window).std()\n",
    "under_line     = (smooth_path-path_deviation)\n",
    "over_line      = (smooth_path+path_deviation)\n",
    "ax1.plot(smooth_path, linewidth=2, label ='Error (moving avg)') #mean curve.\n",
    "ax1.fill_between(path_deviation.index, under_line, over_line, color='b', alpha=0.2,label ='Error (std deviation)') #std curves.\n",
    "ax1.axhline(y=0,color='k',linestyle='--',alpha=0.3)\n",
    "ax1.legend(loc='upper center', bbox_to_anchor=(0.4, 1), shadow=True, ncol=1)\n",
    "ax1.tick_params(axis='y', labelcolor=color)\n",
    "ax1.grid(False)\n",
    "ax2 = ax1.twinx()  # instantiate a second axes that shares the same x-axis\n",
    "ax2.set_ylabel('Exploration rate', color=color)  # we already handled the x-label with ax1\n",
    "ax2.plot(range(len(df['q1'])),df['Exploration rate'],'g--', label = 'Exploration rate')\n",
    "ax2.tick_params(axis='y', labelcolor=color)\n",
    "plt.axvline(x=experimenter.marker,color='g',linestyle='-',alpha=0.2)\n",
    "ax2.grid(False)\n",
    "ax2.legend()\n",
    "fig.tight_layout()\n",
    "plt.savefig('plots/Error-Pendulum.pdf')"
   ]
  }
 ],
 "metadata": {
  "kernelspec": {
   "display_name": "Python 3.7.4 64-bit",
   "language": "python",
   "name": "python37464bit8e883fb89e3b4fd7be7074eee0a2dddc"
  },
  "language_info": {
   "codemirror_mode": {
    "name": "ipython",
    "version": 3
   },
   "file_extension": ".py",
   "mimetype": "text/x-python",
   "name": "python",
   "nbconvert_exporter": "python",
   "pygments_lexer": "ipython3",
   "version": "3.7.4"
  },
  "varInspector": {
   "cols": {
    "lenName": 16,
    "lenType": 16,
    "lenVar": 40
   },
   "kernels_config": {
    "python": {
     "delete_cmd_postfix": "",
     "delete_cmd_prefix": "del ",
     "library": "var_list.py",
     "varRefreshCmd": "print(var_dic_list())"
    },
    "r": {
     "delete_cmd_postfix": ") ",
     "delete_cmd_prefix": "rm(",
     "library": "var_list.r",
     "varRefreshCmd": "cat(var_dic_list()) "
    }
   },
   "types_to_exclude": [
    "module",
    "function",
    "builtin_function_or_method",
    "instance",
    "_Feature"
   ],
   "window_display": false
  }
 },
 "nbformat": 4,
 "nbformat_minor": 2
}
